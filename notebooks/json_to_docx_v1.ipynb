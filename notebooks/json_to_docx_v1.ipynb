{
 "cells": [
  {
   "cell_type": "code",
   "execution_count": 1,
   "metadata": {},
   "outputs": [],
   "source": [
    "import os\n",
    "import sys\n",
    "import time\n",
    "import base64\n",
    "import uuid\n",
    "import json\n",
    "import codecs\n",
    "import pandas as pd\n"
   ]
  },
  {
   "cell_type": "code",
   "execution_count": 2,
   "metadata": {},
   "outputs": [],
   "source": [
    "base_dir        = os.path.dirname(os.getcwd())\n",
    "input_dir       = os.path.join(base_dir, 'data', 'input')\n",
    "output_dir      = os.path.join(base_dir, 'data', 'output')\n",
    "filename        = 'CH_FILE1.json'\n",
    "\n",
    "input_filepath  = os.path.join(input_dir, filename)\n",
    "output_filepath = os.path.join(output_dir, os.path.splitext(os.path.basename(filename))[0]+'.docx')\n"
   ]
  },
  {
   "cell_type": "code",
   "execution_count": 3,
   "metadata": {},
   "outputs": [],
   "source": [
    "def get_pages(filepath):\n",
    "    data  = json.load(codecs.open(filepath, 'r', 'utf-8-sig'))\n",
    "    pages = data['data']\n",
    "    return pages"
   ]
  },
  {
   "cell_type": "code",
   "execution_count": 4,
   "metadata": {},
   "outputs": [
    {
     "name": "stdout",
     "output_type": "stream",
     "text": [
      "document has 4 pages\n"
     ]
    }
   ],
   "source": [
    "pages =  get_pages(input_filepath)   \n",
    "print('document has %d pages' % (len(pages)))"
   ]
  },
  {
   "cell_type": "code",
   "execution_count": 10,
   "metadata": {},
   "outputs": [
    {
     "name": "stdout",
     "output_type": "stream",
     "text": [
      "processing this page\n",
      "processing this page\n",
      "processing this page\n",
      "ignoring this page\n"
     ]
    }
   ],
   "source": [
    "for page in pages:\n",
    "    if 'images' not in list(page.keys()) or 'text_blocks' not in list(page.keys()):\n",
    "        print('ignoring this page')\n",
    "    else:\n",
    "        print('processing this page')"
   ]
  },
  {
   "cell_type": "code",
   "execution_count": 5,
   "metadata": {},
   "outputs": [
    {
     "ename": "KeyError",
     "evalue": "'text_blocks'",
     "output_type": "error",
     "traceback": [
      "\u001b[0;31m---------------------------------------------------------------------------\u001b[0m",
      "\u001b[0;31mKeyError\u001b[0m                                  Traceback (most recent call last)",
      "\u001b[0;32m<ipython-input-5-72fdf0c24769>\u001b[0m in \u001b[0;36m<module>\u001b[0;34m()\u001b[0m\n\u001b[1;32m     15\u001b[0m \u001b[0;34m\u001b[0m\u001b[0m\n\u001b[1;32m     16\u001b[0m     \u001b[0mimages\u001b[0m       \u001b[0;34m=\u001b[0m \u001b[0mpage\u001b[0m\u001b[0;34m[\u001b[0m\u001b[0;34m'images'\u001b[0m\u001b[0;34m]\u001b[0m\u001b[0;34m\u001b[0m\u001b[0m\n\u001b[0;32m---> 17\u001b[0;31m     \u001b[0mtexts\u001b[0m        \u001b[0;34m=\u001b[0m \u001b[0mpage\u001b[0m\u001b[0;34m[\u001b[0m\u001b[0;34m'text_blocks'\u001b[0m\u001b[0;34m]\u001b[0m\u001b[0;34m\u001b[0m\u001b[0m\n\u001b[0m\u001b[1;32m     18\u001b[0m     \u001b[0mpage_num\u001b[0m     \u001b[0;34m=\u001b[0m \u001b[0mpage\u001b[0m\u001b[0;34m[\u001b[0m\u001b[0;34m'page_no'\u001b[0m\u001b[0;34m]\u001b[0m\u001b[0;34m\u001b[0m\u001b[0m\n\u001b[1;32m     19\u001b[0m     \u001b[0mpage_width\u001b[0m   \u001b[0;34m=\u001b[0m \u001b[0mpage\u001b[0m\u001b[0;34m[\u001b[0m\u001b[0;34m'page_width'\u001b[0m\u001b[0;34m]\u001b[0m\u001b[0;34m\u001b[0m\u001b[0m\n",
      "\u001b[0;31mKeyError\u001b[0m: 'text_blocks'"
     ]
    }
   ],
   "source": [
    "dfs              = []\n",
    "page_width       = None\n",
    "page_height      = None\n",
    "\n",
    "for page in pages:\n",
    "    text_tops        = []\n",
    "    text_lefts       = []\n",
    "    text_widths      = []\n",
    "    text_heights     = []\n",
    "    font_sizes       = []\n",
    "    font_families    = []\n",
    "    font_colors      = []\n",
    "    text_values      = []\n",
    "    b64_images       = []\n",
    "\n",
    "    images       = page['images']\n",
    "    texts        = page['text_blocks']\n",
    "    page_num     = page['page_no']\n",
    "    page_width   = page['page_width']\n",
    "    page_height  = page['page_height']\n",
    "    \n",
    "    for text in texts:\n",
    "        text_tops.append(text['text_top'])\n",
    "        text_lefts.append(text['text_left'])\n",
    "        text_widths.append(text['text_width'])\n",
    "        text_heights.append(text['text_height'])\n",
    "        \n",
    "        if (str(text['font_size'])=='NaN') or text['font_size'] == None:\n",
    "            text['font_size'] = text['children'][0]['font_size']\n",
    "            font_sizes.append(text['font_size'])\n",
    "            \n",
    "        if (str(text['font_family'])=='NaN') or text['font_family'] == None:\n",
    "            text['font_family'] = text['children'][0]['font_family']\n",
    "            font_families.append(text['font_family'])\n",
    "            \n",
    "        if (str(text['font_color'])=='NaN') or text['font_color'] == None:\n",
    "            text['font_color'] = text['children'][0]['font_color']\n",
    "            font_colors.append(text['font_color'])\n",
    "        \n",
    "        b64_images.append(None)\n",
    "        \n",
    "        text_value = []\n",
    "        for processed_text in text['tokenized_sentences']:\n",
    "            text_value.append(processed_text['src'])        \n",
    "        text_values.append(' '.join(text_value))\n",
    "    \n",
    "    for image in images:\n",
    "        text_tops.append(image['text_top'])\n",
    "        text_lefts.append(image['text_left'])\n",
    "        text_widths.append(image['text_width'])\n",
    "        text_heights.append(image['text_height'])\n",
    "        b64_images.append(image['base64'])\n",
    "        text_values.append(None)\n",
    "        font_sizes.append(None)\n",
    "        font_families.append(None)\n",
    "        font_colors.append(None)\n",
    "    \n",
    "    df = pd.DataFrame(list(zip(text_tops, text_lefts, text_widths, text_heights,\n",
    "                                            text_values, font_sizes, font_families, font_colors, b64_images)), \n",
    "                              columns =['text_top', 'text_left', 'text_width', 'text_height',\n",
    "                                          'text', 'font_size', 'font_family', 'font_color', 'base64'])\n",
    "    df.sort_values('text_top', axis = 0, ascending = True, inplace=True)    \n",
    "    dfs.append(df)\n"
   ]
  },
  {
   "cell_type": "code",
   "execution_count": 15,
   "metadata": {},
   "outputs": [],
   "source": [
    "from docx import Document\n",
    "from docx.shared import Pt\n",
    "from docx.shared import Twips, Cm\n",
    "from docx.enum.text import WD_ALIGN_PARAGRAPH, WD_BREAK\n",
    "from docx.enum.section import WD_SECTION, WD_ORIENT\n",
    "from docx.shared import Length\n",
    "\n",
    "\n",
    "def get_pixel_twips(pixels):\n",
    "    PIXEL_TO_TWIPS = 14.999903622654\n",
    "    return int(PIXEL_TO_TWIPS * pixels)\n",
    "\n",
    "def get_font_point(pixels):\n",
    "    return pixels * 0.75\n",
    "\n",
    "def get_cms(pixels):\n",
    "    PPI          = 108\n",
    "    INCH_TO_CM   = 2.54\n",
    "    PIXEL_PER_CM = PPI / 2.54\n",
    "    \n",
    "    return pixels / PIXEL_PER_CM\n",
    "\n",
    "def get_path_from_base64(work_dir, b64_data):\n",
    "    filepath = os.path.join(work_dir, str(uuid.uuid4().hex) + '.jpg')\n",
    "    with open(filepath, 'wb') as file:\n",
    "        file.write(base64.b64decode(b64_data))\n",
    "    return filepath\n",
    "\n",
    "def pixel_to_twips(px, dpi=108):\n",
    "    INCH_TO_TWIPS  = 1440\n",
    "    px_to_inches   = 1.0 / float(dpi)\n",
    "    return int(px * px_to_inches * INCH_TO_TWIPS)"
   ]
  },
  {
   "cell_type": "code",
   "execution_count": 16,
   "metadata": {},
   "outputs": [
    {
     "data": {
      "text/html": [
       "<div>\n",
       "<style scoped>\n",
       "    .dataframe tbody tr th:only-of-type {\n",
       "        vertical-align: middle;\n",
       "    }\n",
       "\n",
       "    .dataframe tbody tr th {\n",
       "        vertical-align: top;\n",
       "    }\n",
       "\n",
       "    .dataframe thead th {\n",
       "        text-align: right;\n",
       "    }\n",
       "</style>\n",
       "<table border=\"1\" class=\"dataframe\">\n",
       "  <thead>\n",
       "    <tr style=\"text-align: right;\">\n",
       "      <th></th>\n",
       "      <th>text_top</th>\n",
       "      <th>text_left</th>\n",
       "      <th>text_width</th>\n",
       "      <th>text_height</th>\n",
       "      <th>text</th>\n",
       "      <th>font_size</th>\n",
       "      <th>font_family</th>\n",
       "      <th>font_color</th>\n",
       "      <th>base64</th>\n",
       "    </tr>\n",
       "  </thead>\n",
       "  <tbody>\n",
       "    <tr>\n",
       "      <th>0</th>\n",
       "      <td>101</td>\n",
       "      <td>202</td>\n",
       "      <td>529</td>\n",
       "      <td>101</td>\n",
       "      <td>the Preliminary Test, so many candidates from ...</td>\n",
       "      <td>None</td>\n",
       "      <td>None</td>\n",
       "      <td>None</td>\n",
       "      <td>None</td>\n",
       "    </tr>\n",
       "  </tbody>\n",
       "</table>\n",
       "</div>"
      ],
      "text/plain": [
       "   text_top  text_left  text_width  text_height  \\\n",
       "0       101        202         529          101   \n",
       "\n",
       "                                                text font_size font_family  \\\n",
       "0  the Preliminary Test, so many candidates from ...      None        None   \n",
       "\n",
       "  font_color base64  \n",
       "0       None   None  "
      ]
     },
     "execution_count": 16,
     "metadata": {},
     "output_type": "execute_result"
    }
   ],
   "source": [
    "df_index = 2\n",
    "df       = dfs[df_index]\n",
    "df"
   ]
  },
  {
   "cell_type": "code",
   "execution_count": 20,
   "metadata": {},
   "outputs": [],
   "source": [
    "document  = Document()\n",
    "section             = document.sections[-1]\n",
    "section.left_margin   = Cm(1.27)\n",
    "section.right_margin  = Cm(1.27)\n",
    "section.top_margin    = Cm(1.27)\n",
    "section.bottom_margin = Cm(1.27)\n",
    "\n",
    "row       = df.iloc[1]\n",
    "# empty p at start of page\n",
    "p1 = document.add_paragraph()\n",
    "p1_format           = p1.paragraph_format\n",
    "p1_format.line_spacing = Pt(18)\n",
    "\n",
    "# text p\n",
    "p2 = document.add_paragraph()\n",
    "p2_format = p2.paragraph_format\n",
    "p2_format.left_indent = Twips(pixel_to_twips(row['text_left']))\n",
    "\n",
    "run                        = p2.add_run()\n",
    "font                       = run.font\n",
    "font.name                  = 'Arial'\n",
    "font.size                  = Twips(pixel_to_twips(row['font_size']))\n",
    "run.add_text(row['text'])\n",
    "\n",
    "# next text on the same page\n",
    "row       = df.iloc[2]\n",
    "\n",
    "p3 = document.add_paragraph()\n",
    "p3_format = p3.paragraph_format\n",
    "p3_format.left_indent = Cm(get_cms(row['text_left']))\n",
    "\n",
    "run                        = p3.add_run()\n",
    "font                       = run.font\n",
    "font.name                  = 'Arial'\n",
    "font.size                  = Twips(pixel_to_twips(row['font_size']))\n",
    "run.add_text(row['text'])\n",
    "\n",
    "# next text on the same page\n",
    "row       = df.iloc[3]\n",
    "\n",
    "p3 = document.add_paragraph()\n",
    "p3_format = p3.paragraph_format\n",
    "p3_format.left_indent = Twips(pixel_to_twips(row['text_left']))\n",
    "p4_format.space_before = Twips(pixel_to_twips(row['text_top'] - df.iloc[2]['text_top']) )\n",
    "\n",
    "\n",
    "run                        = p3.add_run()\n",
    "font                       = run.font\n",
    "font.name                  = 'Arial'\n",
    "font.size                  = Twips(pixel_to_twips(row['font_size']))\n",
    "run.add_text(row['text'])\n",
    "\n",
    "# next text on the same page\n",
    "row       = df.iloc[4]\n",
    "p4 = document.add_paragraph()\n",
    "p4_format = p4.paragraph_format\n",
    "p4_format.left_indent = Twips(pixel_to_twips(row['text_left']))\n",
    "p4_format.space_before = Twips(pixel_to_twips(row['text_top'] - df.iloc[3]['text_top']) )\n",
    "\n",
    "run                        = p4.add_run()\n",
    "font                       = run.font\n",
    "font.name                  = 'Arial'\n",
    "font.size                  = Twips(pixel_to_twips(row['font_size']))\n",
    "run.add_text(row['text'])\n",
    "\n",
    "\n",
    "document.save(output_filepath)"
   ]
  },
  {
   "cell_type": "code",
   "execution_count": 45,
   "metadata": {},
   "outputs": [
    {
     "data": {
      "text/plain": [
       "(892, 1263, 13379)"
      ]
     },
     "execution_count": 45,
     "metadata": {},
     "output_type": "execute_result"
    }
   ],
   "source": [
    "page_width, page_height, get_pixel_twips(page_width)"
   ]
  },
  {
   "cell_type": "code",
   "execution_count": 32,
   "metadata": {},
   "outputs": [],
   "source": [
    "width_dpi  = 892\n",
    "height_dpi = 1263\n",
    "\n"
   ]
  },
  {
   "cell_type": "code",
   "execution_count": 34,
   "metadata": {},
   "outputs": [
    {
     "data": {
      "text/plain": [
       "(11893, 16840)"
      ]
     },
     "execution_count": 34,
     "metadata": {},
     "output_type": "execute_result"
    }
   ],
   "source": [
    "dpi = 108\n",
    "pixel_to_twips(width_dpi, dpi), pixel_to_twips(height_dpi, dpi) \n"
   ]
  },
  {
   "cell_type": "code",
   "execution_count": 25,
   "metadata": {},
   "outputs": [],
   "source": [
    "document  = Document()\n",
    "\n",
    "for index, df in enumerate(dfs[:1]):\n",
    "    section             = document.sections[-1]\n",
    "    section.orientation = WD_ORIENT.PORTRAIT\n",
    "    section.page_width  = Cm(get_cms(page_width))\n",
    "    section.page_height = Cm(get_cms(page_height))\n",
    "\n",
    "    section.left_margin   = Cm(1.27)\n",
    "    section.right_margin  = Cm(1.27)\n",
    "    section.top_margin    = Cm(1.27)\n",
    "    section.bottom_margin = Cm(1.27)\n",
    "\n",
    "    for index, row in df.iterrows():\n",
    "        if row['text'] == None and row['base64'] != None:\n",
    "            pass\n",
    "#             image_path = get_path_from_base64(output_dir, row['base64'])\n",
    "#             paragraph = document.add_paragraph()\n",
    "#             run                        = paragraph.add_run()\n",
    "#             run.add_drawing(image_path, width=Cm(get_cms(row['text_width'])), \n",
    "#                                  height=Cm(get_cms(row['text_height'])))\n",
    "#             os.remove(image_path)\n",
    "        else:\n",
    "            paragraph = document.add_paragraph()\n",
    "\n",
    "            paragraph_format           = paragraph.paragraph_format\n",
    "            paragraph_format.left_indent = Cm(get_cms(row['text_left']))\n",
    "\n",
    "            run                        = paragraph.add_run()\n",
    "            font                       = run.font\n",
    "            font.name                  = 'Arial'\n",
    "            font.size                  = Cm(get_cms(row['font_size']))\n",
    "            run.add_text(row['text'])\n",
    "    \n",
    "    paragraph = document.add_paragraph()\n",
    "    run       = paragraph.add_run()\n",
    "    run.add_break(WD_BREAK.PAGE)\n",
    "    \n",
    "    \n",
    "document.save(output_filepath)"
   ]
  },
  {
   "cell_type": "code",
   "execution_count": 87,
   "metadata": {},
   "outputs": [],
   "source": []
  },
  {
   "cell_type": "code",
   "execution_count": null,
   "metadata": {},
   "outputs": [],
   "source": []
  }
 ],
 "metadata": {
  "kernelspec": {
   "display_name": "Python 3.5.6 64-bit ('cv3': conda)",
   "language": "python",
   "name": "python35664bitcv3conda56b31b492c17456d86703f6408b0e697"
  },
  "language_info": {
   "codemirror_mode": {
    "name": "ipython",
    "version": 3
   },
   "file_extension": ".py",
   "mimetype": "text/x-python",
   "name": "python",
   "nbconvert_exporter": "python",
   "pygments_lexer": "ipython3",
   "version": "3.5.6"
  }
 },
 "nbformat": 4,
 "nbformat_minor": 2
}
